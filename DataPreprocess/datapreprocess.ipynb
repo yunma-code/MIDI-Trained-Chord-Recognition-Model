{
 "cells": [
  {
   "cell_type": "markdown",
   "metadata": {},
   "source": [
    "# MIDI-Trained Chord Recognition Model"
   ]
  },
  {
   "cell_type": "markdown",
   "metadata": {},
   "source": [
    "## Data Preprocessing"
   ]
  },
  {
   "cell_type": "markdown",
   "metadata": {},
   "source": [
    "### 1. Load and Extract from midi_folder"
   ]
  },
  {
   "cell_type": "code",
   "execution_count": 1,
   "metadata": {},
   "outputs": [],
   "source": [
    "import os\n",
    "import json\n",
    "import pretty_midi\n",
    "import pandas as pd\n",
    "import numpy as np\n",
    "from collections import defaultdict\n",
    "import mido\n",
    "import io\n",
    "\n",
    "# define chord type templates: intervals relative to root\n",
    "CHORD_TEMPLATES = {\n",
    "    \"Major\":         {0, 4, 7},\n",
    "    \"Minor\":         {0, 3, 7},\n",
    "    \"Dominant 7th\":  {0, 4, 7, 10},\n",
    "    \"Diminished\":    {0, 3, 6},\n",
    "    \"Augmented\":     {0, 4, 8},\n",
    "}\n",
    "\n",
    "PITCH_CLASS_NAMES = ['C', 'C#', 'D', 'D#', 'E', 'F',\n",
    "                     'F#', 'G', 'G#', 'A', 'A#', 'B']\n",
    "\n",
    "# normalize chord, removing octave transpositions \n",
    "def normalize_chord(chord_tuple):\n",
    "    normalized_chord = {note % 12 for note in chord_tuple}  # keep only unique notes modulo 12\n",
    "    return tuple(sorted(normalized_chord))\n",
    "\n",
    "# identify and name chords \n",
    "def identify_named_chord(chord_tuple):\n",
    "    if not chord_tuple:\n",
    "        return \"Unknown\"\n",
    "\n",
    "    pitch_classes = sorted({p % 12 for p in chord_tuple})\n",
    "    for root in pitch_classes:\n",
    "        transposed = sorted({(p - root) % 12 for p in pitch_classes})\n",
    "        for label, template in CHORD_TEMPLATES.items():\n",
    "            if set(transposed) == template:\n",
    "                root_name = PITCH_CLASS_NAMES[root]\n",
    "                return f\"{root_name} {label}\"\n",
    "    return \"Unknown\"\n",
    "\n",
    "# fixed mapping for chord vocab: all 12 roots * templates\n",
    "def create_fixed_chord_vocab():\n",
    "    ALL_CHORDS = [\n",
    "        f\"{pitch} {chord_type}\"\n",
    "        for pitch in PITCH_CLASS_NAMES\n",
    "        for chord_type in CHORD_TEMPLATES.keys()\n",
    "    ]\n",
    "    chord_to_index = {chord: idx for idx, chord in enumerate(ALL_CHORDS)}\n",
    "    return chord_to_index\n",
    "\n",
    "# extract chord sequence\n",
    "def midi_to_chord_sequence(midi_file, merge_threshold=0.3):\n",
    "    #midi_data = pretty_midi.PrettyMIDI(midi_file)\n",
    "    \n",
    "    raw = mido.MidiFile(midi_file, clip=True)\n",
    "    merged = mido.MidiFile() \n",
    "    merged.ticks_per_beat = raw.ticks_per_beat\n",
    "    merged_track = mido.merge_tracks(raw.tracks)\n",
    "    merged.tracks.append(merged_track)\n",
    "    \n",
    "    # dump to memory buffer\n",
    "    buf = io.BytesIO()\n",
    "    merged.save(file=buf)\n",
    "    buf.seek(0)\n",
    "\n",
    "    midi_data = pretty_midi.PrettyMIDI(buf)\n",
    "\n",
    "    events = []\n",
    "    # for each note, add two events: on/off\n",
    "    for instrument in midi_data.instruments:\n",
    "        if instrument.is_drum:\n",
    "            continue\n",
    "        for note in instrument.notes:\n",
    "            events.append((note.start, 'on', note.pitch))\n",
    "            events.append((note.end, 'off', note.pitch))\n",
    "    \n",
    "\n",
    "    events.sort(key=lambda x: x[0])\n",
    "\n",
    "    active_notes = set()  # track notes that are in use\n",
    "    chords = []  # final list\n",
    "    previous_chord = None\n",
    "    chord_start_time = None\n",
    "    last_event_time = 0\n",
    "\n",
    "    # if note is starting, add to active set\n",
    "    # if note ending, remove it from active set\n",
    "    for time, action, pitch in events:\n",
    "        if action == 'on':\n",
    "            active_notes.add(pitch)\n",
    "        elif action == 'off':\n",
    "            active_notes.discard(pitch)\n",
    "\n",
    "        current_chord = normalize_chord(active_notes) if active_notes else None\n",
    "        chord_label = identify_named_chord(current_chord) if current_chord else None\n",
    "\n",
    "        # if chord changed\n",
    "        if chord_label != previous_chord:\n",
    "            if previous_chord is not None and chord_start_time is not None:\n",
    "                if time - chord_start_time >= merge_threshold:\n",
    "                    chords.append((round(chord_start_time, 3), round(time, 3), previous_chord))\n",
    "            chord_start_time = time\n",
    "            previous_chord = chord_label\n",
    "\n",
    "        last_event_time = time\n",
    "\n",
    "    # capture final chord if any\n",
    "    if previous_chord is not None and chord_start_time is not None:\n",
    "        chords.append((round(chord_start_time, 3), round(midi_data.get_end_time(), 3), previous_chord))\n",
    "\n",
    "    return chords, midi_data\n",
    "\n",
    "# timeframe-level feature extraction and align with chord labels\n",
    "def extract_frame_level_data(chords, midi_data, chord_to_index, frame_hop=1):\n",
    "    end_time = midi_data.get_end_time()\n",
    "    frame_times = np.arange(0, end_time, frame_hop)\n",
    "\n",
    "    chroma = midi_data.get_chroma(fs=int(1 / frame_hop))\n",
    "    chroma = chroma.T  # transpose to shape (frames, 12)\n",
    "\n",
    "    data = []\n",
    "\n",
    "    for i, t in enumerate(frame_times):\n",
    "        frame_feature = chroma[i] if i < len(chroma) else np.zeros(12)\n",
    "        label = None\n",
    "        for start, end, chord in chords:\n",
    "            if start <= t < end:\n",
    "                if chord in chord_to_index:\n",
    "                    label = chord_to_index[chord]\n",
    "                break\n",
    "        if label is not None:\n",
    "            data.append((t, frame_feature, label))\n",
    "    return data\n",
    "\n",
    "\n",
    "# process all midi files in the folder, save to CSV\n",
    "def process_midi_folder(input_folder, chord_csv, frame_csv, frame_hop=1):\n",
    "    chord_rows = []\n",
    "    frame_rows = []\n",
    "    chord_to_index = create_fixed_chord_vocab()\n",
    "\n",
    "    for root, _, files in os.walk(input_folder):\n",
    "        for fname in files:\n",
    "            if not fname.lower().endswith(('.mid','.midi')): continue\n",
    "            path = os.path.join(root, fname)\n",
    "            rel = os.path.relpath(path, input_folder)\n",
    "            try:\n",
    "                chords, midi = midi_to_chord_sequence(path)\n",
    "                # chord-level\n",
    "                for st, ed, ch in chords:\n",
    "                    chord_rows.append([rel, st, ed, ch])\n",
    "                # frame-level\n",
    "                frames = extract_frame_level_data(chords, midi, chord_to_index, frame_hop)\n",
    "                for t, feat, lbl in frames:\n",
    "                    frame_rows.append([rel, t, *feat, lbl])\n",
    "\n",
    "            except Exception as e:\n",
    "                print(f\"[ERROR] {rel}: {e}\")\n",
    "\n",
    "    # save to csv\n",
    "    chord_df = pd.DataFrame(chord_rows, columns=[\"filename\",\"start_time\",\"end_time\",\"chord\"])\n",
    "    chord_df.to_csv(chord_csv, index=False)\n",
    "    cols = [f\"chroma_{i}\" for i in range(12)]\n",
    "    frame_df = pd.DataFrame(frame_rows, columns=[\"filename\",\"time\", *cols, \"label\"])\n",
    "    frame_df.to_csv(frame_csv, index=False)\n",
    "\n",
    "    print(f\"✔ Saved chords to: {chord_csv}\")\n",
    "    print(f\"✔ Saved frames to: {frame_csv}\")\n",
    "    return chord_to_index\n",
    "\n",
    "\n",
    "# def process_midi_folder(midi_folder, chord_output_csv, frame_output_csv, frame_hop=1):\n",
    "#     chord_data = []\n",
    "#     frame_data = []\n",
    "\n",
    "#     chord_to_index = create_fixed_chord_vocab()\n",
    "\n",
    "#     for midi_file in os.listdir(midi_folder):\n",
    "#         if midi_file.endswith(\".mid\") or midi_file.endswith(\".midi\"):\n",
    "#             file_path = os.path.join(midi_folder, midi_file)\n",
    "#             try:\n",
    "#                 chords, midi_data = midi_to_chord_sequence(file_path)\n",
    "#                 for timestamp_start, timestamp_end, chord in chords:\n",
    "#                     chord_data.append([midi_file, timestamp_start, timestamp_end, chord])\n",
    "#             except Exception as e:\n",
    "#                 print(f\"Error processing {midi_file}: {e}\")\n",
    "\n",
    "#     # second pass to align frame-wise data using finalized vocab\n",
    "#     for midi_file in os.listdir(midi_folder):\n",
    "#         if midi_file.endswith(\".mid\") or midi_file.endswith(\".midi\"):\n",
    "#             file_path = os.path.join(midi_folder, midi_file)\n",
    "#             try:\n",
    "#                 chords, midi_data = midi_to_chord_sequence(file_path)\n",
    "#                 frame_entries = extract_frame_level_data(chords, midi_data, chord_to_index, frame_hop)\n",
    "#                 for t, feat, label in frame_entries:\n",
    "#                     frame_data.append([midi_file, round(t, 3)] + list(feat) + [label])\n",
    "#             except Exception as e:\n",
    "#                 print(f\"Error processing {midi_file} for frame-level: {e}\")\n",
    "\n",
    "#     # save chord segment CSV\n",
    "#     chord_df = pd.DataFrame(chord_data, columns=[\"filename\", \"start_time\", \"end_time\", \"chord\"])\n",
    "#     chord_df.to_csv(chord_output_csv, index=False)\n",
    "\n",
    "#     # save frame-level CSV\n",
    "#     feat_cols = [f\"chroma_{i}\" for i in range(12)]\n",
    "#     frame_df = pd.DataFrame(frame_data, columns=[\"filename\", \"time\"] + feat_cols + [\"label\"])\n",
    "#     frame_df.to_csv(frame_output_csv, index=False)\n",
    "\n",
    "#     print(f\"Chord segments saved to {chord_output_csv}\")\n",
    "#     print(f\"Frame-level data saved to {frame_output_csv}\")\n",
    "    \n",
    "#     return chord_to_index"
   ]
  },
  {
   "cell_type": "markdown",
   "metadata": {},
   "source": [
    "### 2. Extract and Combine to csv file"
   ]
  },
  {
   "cell_type": "code",
   "execution_count": 2,
   "metadata": {},
   "outputs": [
    {
     "name": "stdout",
     "output_type": "stream",
     "text": [
      "✔ Saved chords to: output/chord_dataset.csv\n",
      "✔ Saved frames to: output/timeframe_dataset.csv\n"
     ]
    }
   ],
   "source": [
    "# paths\n",
    "output_dir = 'output'\n",
    "os.makedirs(output_dir, exist_ok=True)\n",
    "\n",
    "folder_to_process = 'midi_folder' # test use; change to 'lakh-midi-clean' for actual experiments\n",
    "\n",
    "base = os.path.basename(folder_to_process.rstrip(os.sep))\n",
    "chord_csv = os.path.join(output_dir, f\"chord_dataset.csv\")\n",
    "frame_csv = os.path.join(output_dir, f\"timeframe_dataset.csv\")\n",
    "vocab_json = os.path.join(output_dir, f\"chord_vocab.json\")\n",
    "\n",
    "chord_to_index = process_midi_folder(folder_to_process, chord_csv, frame_csv)\n",
    "\n",
    "with open(vocab_json, 'w') as f:\n",
    "    json.dump(chord_to_index, f, indent=2)\n",
    "    "
   ]
  },
  {
   "cell_type": "markdown",
   "metadata": {},
   "source": [
    "### 3. One-hot Encoding"
   ]
  },
  {
   "cell_type": "code",
   "execution_count": 3,
   "metadata": {},
   "outputs": [
    {
     "name": "stdout",
     "output_type": "stream",
     "text": [
      "One-hot encoded data saved to output/timeframe_onehot.csv\n"
     ]
    }
   ],
   "source": [
    "# one-hot encoding \n",
    "import pandas as pd\n",
    "import numpy as np\n",
    "import os\n",
    "import json\n",
    "\n",
    "output_dir = \"output\"\n",
    "os.makedirs(output_dir, exist_ok=True)\n",
    "\n",
    "frame_csv_path = \"output/timeframe_dataset.csv\"\n",
    "chord_vocab_path = \"output/chord_vocab.json\"\n",
    "output_onehot_csv_path = os.path.join(output_dir, \"timeframe_onehot.csv\")\n",
    "\n",
    "\n",
    "# load from JSON file\n",
    "with open(chord_vocab_path, \"r\") as f:\n",
    "    chord_to_index = json.load(f)\n",
    "\n",
    "# reverse\n",
    "chord_to_index = {str(k): v for k, v in chord_to_index.items()}\n",
    "\n",
    "\n",
    "def one_hot_encode_labels(label_indices, num_classes):\n",
    "    return np.eye(num_classes)[label_indices]\n",
    "\n",
    "# load original timeframe-level dataset\n",
    "df = pd.read_csv(frame_csv_path)\n",
    "\n",
    "# get label col\n",
    "label_indices = df[\"label\"].astype(int).values\n",
    "\n",
    "# one-hot encoding \n",
    "num_classes = len(chord_to_index)\n",
    "one_hot = one_hot_encode_labels(label_indices, num_classes)\n",
    "\n",
    "# create DataFrame \n",
    "one_hot_columns = [f\"class_{i}\" for i in range(num_classes)]\n",
    "one_hot_df = pd.DataFrame(one_hot, columns=one_hot_columns)\n",
    "\n",
    "# combine with filename + time \n",
    "minimal_df = df[[\"filename\", \"time\"]].reset_index(drop=True)\n",
    "result_df = pd.concat([minimal_df, one_hot_df], axis=1)\n",
    "\n",
    "result_df.to_csv(output_onehot_csv_path, index=False)\n",
    "\n",
    "print(f\"One-hot encoded data saved to {output_onehot_csv_path}\")"
   ]
  },
  {
   "cell_type": "markdown",
   "metadata": {},
   "source": [
    "## Baseline Model: SVM"
   ]
  },
  {
   "cell_type": "code",
   "execution_count": 4,
   "metadata": {},
   "outputs": [
    {
     "name": "stdout",
     "output_type": "stream",
     "text": [
      "Classification Report:\n",
      "              precision    recall  f1-score   support\n",
      "\n",
      "           0       0.47      0.71      0.57       185\n",
      "           1       0.50      0.38      0.43        24\n",
      "           2       0.47      0.37      0.41        19\n",
      "           3       0.00      0.00      0.00         1\n",
      "           4       0.00      0.00      0.00         2\n",
      "           5       0.55      0.68      0.61        31\n",
      "           6       0.75      0.46      0.57        13\n",
      "           7       0.00      0.00      0.00         4\n",
      "           8       0.00      0.00      0.00         1\n",
      "           9       0.00      0.00      0.00         2\n",
      "          10       0.59      0.74      0.66       133\n",
      "          11       0.53      0.47      0.49        45\n",
      "          12       0.57      0.29      0.38        14\n",
      "          13       0.00      0.00      0.00         1\n",
      "          14       0.00      0.00      0.00         1\n",
      "          15       0.69      0.74      0.71        65\n",
      "          16       0.00      0.00      0.00         5\n",
      "          17       0.50      0.17      0.25         6\n",
      "          18       0.00      0.00      0.00         1\n",
      "          19       0.00      0.00      0.00         2\n",
      "          20       0.64      0.65      0.64       102\n",
      "          21       0.53      0.48      0.51        48\n",
      "          22       0.00      0.00      0.00        10\n",
      "          23       0.00      0.00      0.00         2\n",
      "          25       0.65      0.63      0.64       115\n",
      "          26       0.72      0.62      0.67        21\n",
      "          27       0.00      0.00      0.00         9\n",
      "          30       0.68      0.65      0.67        26\n",
      "          31       0.83      0.33      0.48        15\n",
      "          32       0.00      0.00      0.00         2\n",
      "          33       0.00      0.00      0.00         2\n",
      "          35       0.58      0.66      0.62       169\n",
      "          36       0.70      0.30      0.42        23\n",
      "          37       0.67      0.10      0.17        20\n",
      "          38       0.00      0.00      0.00         1\n",
      "          40       0.44      0.62      0.52        39\n",
      "          41       0.67      0.25      0.36         8\n",
      "          42       0.00      0.00      0.00         5\n",
      "          43       0.00      0.00      0.00         1\n",
      "          45       0.63      0.71      0.67       100\n",
      "          46       0.53      0.24      0.33        38\n",
      "          47       0.50      0.09      0.15        11\n",
      "          48       0.00      0.00      0.00         2\n",
      "          50       0.55      0.63      0.59        82\n",
      "          51       0.29      0.20      0.24        10\n",
      "          52       0.00      0.00      0.00         4\n",
      "          53       0.00      0.00      0.00         2\n",
      "          55       0.47      0.52      0.49        31\n",
      "          56       0.48      0.28      0.35        39\n",
      "          57       0.83      0.29      0.43        17\n",
      "          58       0.00      0.00      0.00         3\n",
      "\n",
      "    accuracy                           0.57      1512\n",
      "   macro avg       0.33      0.26      0.28      1512\n",
      "weighted avg       0.55      0.57      0.54      1512\n",
      "\n",
      "Confusion Matrix:\n",
      "[[131   0   3 ...   2   0   0]\n",
      " [  1   9   0 ...   1   0   0]\n",
      " [  4   1   7 ...   0   0   0]\n",
      " ...\n",
      " [  6   0   0 ...  11   0   0]\n",
      " [  4   0   0 ...   0   5   0]\n",
      " [  3   0   0 ...   0   0   0]]\n"
     ]
    }
   ],
   "source": [
    "import pandas as pd\n",
    "from sklearn.svm import SVC\n",
    "from sklearn.model_selection import train_test_split\n",
    "from sklearn.metrics import classification_report, confusion_matrix\n",
    "from sklearn.preprocessing import StandardScaler\n",
    "\n",
    "frame_csv_path = \"output/timeframe_dataset.csv\"\n",
    "df = pd.read_csv(frame_csv_path)\n",
    "\n",
    "# split to train and test dataset\n",
    "feature_cols = [f\"chroma_{i}\" for i in range(12)]\n",
    "\n",
    "X = df[feature_cols].values\n",
    "y = df[\"label\"].values\n",
    "\n",
    "X_train, X_test, y_train, y_test = train_test_split(\n",
    "    X, y, test_size=0.2, random_state=42, stratify=y\n",
    ")\n",
    "\n",
    "# standardize features\n",
    "scaler = StandardScaler()\n",
    "X_train_scaled = scaler.fit_transform(X_train)\n",
    "X_test_scaled = scaler.transform(X_test)\n",
    "\n",
    "# RBF kernel \n",
    "svm_model = SVC()\n",
    "svm_model.fit(X_train_scaled, y_train)\n",
    "\n",
    "y_pred = svm_model.predict(X_test_scaled)\n",
    "\n",
    "# print confusion metrics with zero_division fix\n",
    "print(\"Classification Report:\")\n",
    "print(classification_report(y_test, y_pred, zero_division=0))\n",
    "\n",
    "print(\"Confusion Matrix:\")\n",
    "print(confusion_matrix(y_test, y_pred))\n"
   ]
  },
  {
   "cell_type": "markdown",
   "metadata": {},
   "source": [
    "## Deep Learning Models"
   ]
  },
  {
   "cell_type": "markdown",
   "metadata": {},
   "source": [
    "### Reorganize timing data"
   ]
  },
  {
   "cell_type": "code",
   "execution_count": 14,
   "metadata": {},
   "outputs": [
    {
     "name": "stdout",
     "output_type": "stream",
     "text": [
      "X_seq: (213, 64, 12) y_seq_ohe: (213, 64, 59)\n"
     ]
    }
   ],
   "source": [
    "# build_sequence_tensor(df, seq_len)  ——>  X_seq, y_seq_onehot\n",
    "\n",
    "import numpy as np\n",
    "import pandas as pd\n",
    "from tensorflow.keras.utils import to_categorical\n",
    "\n",
    "def build_sequence_tensor(frame_df: pd.DataFrame,\n",
    "                          seq_len: int = 64,\n",
    "                          num_feat: int = 12,\n",
    "                          num_classes: int = 24):\n",
    "    \"\"\"\n",
    "    Convert frame-level dataframe -> (N_song, seq_len, num_feat) & one-hot encoded labels\n",
    "    \"\"\"\n",
    "    # pre-allocate arrays\n",
    "    by_song = frame_df.groupby(\"filename\")\n",
    "    n_song  = len(by_song)\n",
    "    X_seq   = np.zeros((n_song, seq_len, num_feat), dtype=np.float32)\n",
    "    y_seq   = np.zeros((n_song, seq_len), dtype=np.int32)\n",
    "\n",
    "    # fill or truncate sequences\n",
    "    for idx, (_, group) in enumerate(by_song):\n",
    "        # Ensure data is sorted by time\n",
    "        group = group.sort_values(\"time\")\n",
    "        x = group[[f\"chroma_{i}\" for i in range(num_feat)]].to_numpy()\n",
    "        y = group[\"label\"].to_numpy()\n",
    "\n",
    "        # Pad or truncate to fixed sequence length\n",
    "        pad = max(seq_len - len(x), 0)\n",
    "        x = np.pad(x, ((0, pad), (0, 0)), \"constant\")[:seq_len]\n",
    "        y = np.pad(y, (0, pad), \"constant\")[:seq_len]\n",
    "\n",
    "        X_seq[idx] = x\n",
    "        y_seq[idx] = y\n",
    "\n",
    "    # one-hot encode labels\n",
    "    y_seq_ohe = to_categorical(y_seq, num_classes=num_classes)\n",
    "    return X_seq, y_seq_ohe\n",
    "\n",
    "frame_df = pd.read_csv(\"output/timeframe_dataset.csv\")\n",
    "\n",
    "seq_len = 64         # typical length for 2–4 bars; can be tuned\n",
    "num_feat = 12\n",
    "num_classes = frame_df[\"label\"].max() + 1\n",
    "\n",
    "X_seq, y_seq_ohe = build_sequence_tensor(frame_df, seq_len, num_feat, num_classes)\n",
    "print(\"X_seq:\", X_seq.shape, \"y_seq_ohe:\", y_seq_ohe.shape)\n",
    "\n",
    "# train / test split\n",
    "from sklearn.model_selection import train_test_split\n",
    "X_tr, X_te, y_tr, y_te = train_test_split(\n",
    "    X_seq, y_seq_ohe, test_size=0.2, random_state=42, shuffle=True\n",
    ")\n"
   ]
  },
  {
   "cell_type": "markdown",
   "metadata": {},
   "source": [
    "### 1. CNN Model"
   ]
  },
  {
   "cell_type": "code",
   "execution_count": null,
   "metadata": {},
   "outputs": [],
   "source": []
  },
  {
   "cell_type": "markdown",
   "metadata": {},
   "source": [
    "### 2. RNN Model"
   ]
  },
  {
   "cell_type": "code",
   "execution_count": null,
   "metadata": {},
   "outputs": [
    {
     "name": "stderr",
     "output_type": "stream",
     "text": [
      "/Users/loris/Desktop/MIDI-Trained-Chord-Recognition-Model/.venv/lib/python3.12/site-packages/keras/src/layers/rnn/rnn.py:200: UserWarning: Do not pass an `input_shape`/`input_dim` argument to a layer. When using Sequential models, prefer using an `Input(shape)` object as the first layer in the model instead.\n",
      "  super().__init__(**kwargs)\n"
     ]
    },
    {
     "data": {
      "text/html": [
       "<pre style=\"white-space:pre;overflow-x:auto;line-height:normal;font-family:Menlo,'DejaVu Sans Mono',consolas,'Courier New',monospace\"><span style=\"font-weight: bold\">Model: \"sequential\"</span>\n",
       "</pre>\n"
      ],
      "text/plain": [
       "\u001b[1mModel: \"sequential\"\u001b[0m\n"
      ]
     },
     "metadata": {},
     "output_type": "display_data"
    },
    {
     "data": {
      "text/html": [
       "<pre style=\"white-space:pre;overflow-x:auto;line-height:normal;font-family:Menlo,'DejaVu Sans Mono',consolas,'Courier New',monospace\">┏━━━━━━━━━━━━━━━━━━━━━━━━━━━━━━━━━┳━━━━━━━━━━━━━━━━━━━━━━━━┳━━━━━━━━━━━━━━━┓\n",
       "┃<span style=\"font-weight: bold\"> Layer (type)                    </span>┃<span style=\"font-weight: bold\"> Output Shape           </span>┃<span style=\"font-weight: bold\">       Param # </span>┃\n",
       "┡━━━━━━━━━━━━━━━━━━━━━━━━━━━━━━━━━╇━━━━━━━━━━━━━━━━━━━━━━━━╇━━━━━━━━━━━━━━━┩\n",
       "│ simple_rnn (<span style=\"color: #0087ff; text-decoration-color: #0087ff\">SimpleRNN</span>)          │ (<span style=\"color: #00d7ff; text-decoration-color: #00d7ff\">None</span>, <span style=\"color: #00af00; text-decoration-color: #00af00\">64</span>, <span style=\"color: #00af00; text-decoration-color: #00af00\">64</span>)         │         <span style=\"color: #00af00; text-decoration-color: #00af00\">4,928</span> │\n",
       "├─────────────────────────────────┼────────────────────────┼───────────────┤\n",
       "│ time_distributed                │ (<span style=\"color: #00d7ff; text-decoration-color: #00d7ff\">None</span>, <span style=\"color: #00af00; text-decoration-color: #00af00\">64</span>, <span style=\"color: #00af00; text-decoration-color: #00af00\">59</span>)         │         <span style=\"color: #00af00; text-decoration-color: #00af00\">3,835</span> │\n",
       "│ (<span style=\"color: #0087ff; text-decoration-color: #0087ff\">TimeDistributed</span>)               │                        │               │\n",
       "└─────────────────────────────────┴────────────────────────┴───────────────┘\n",
       "</pre>\n"
      ],
      "text/plain": [
       "┏━━━━━━━━━━━━━━━━━━━━━━━━━━━━━━━━━┳━━━━━━━━━━━━━━━━━━━━━━━━┳━━━━━━━━━━━━━━━┓\n",
       "┃\u001b[1m \u001b[0m\u001b[1mLayer (type)                   \u001b[0m\u001b[1m \u001b[0m┃\u001b[1m \u001b[0m\u001b[1mOutput Shape          \u001b[0m\u001b[1m \u001b[0m┃\u001b[1m \u001b[0m\u001b[1m      Param #\u001b[0m\u001b[1m \u001b[0m┃\n",
       "┡━━━━━━━━━━━━━━━━━━━━━━━━━━━━━━━━━╇━━━━━━━━━━━━━━━━━━━━━━━━╇━━━━━━━━━━━━━━━┩\n",
       "│ simple_rnn (\u001b[38;5;33mSimpleRNN\u001b[0m)          │ (\u001b[38;5;45mNone\u001b[0m, \u001b[38;5;34m64\u001b[0m, \u001b[38;5;34m64\u001b[0m)         │         \u001b[38;5;34m4,928\u001b[0m │\n",
       "├─────────────────────────────────┼────────────────────────┼───────────────┤\n",
       "│ time_distributed                │ (\u001b[38;5;45mNone\u001b[0m, \u001b[38;5;34m64\u001b[0m, \u001b[38;5;34m59\u001b[0m)         │         \u001b[38;5;34m3,835\u001b[0m │\n",
       "│ (\u001b[38;5;33mTimeDistributed\u001b[0m)               │                        │               │\n",
       "└─────────────────────────────────┴────────────────────────┴───────────────┘\n"
      ]
     },
     "metadata": {},
     "output_type": "display_data"
    },
    {
     "data": {
      "text/html": [
       "<pre style=\"white-space:pre;overflow-x:auto;line-height:normal;font-family:Menlo,'DejaVu Sans Mono',consolas,'Courier New',monospace\"><span style=\"font-weight: bold\"> Total params: </span><span style=\"color: #00af00; text-decoration-color: #00af00\">8,763</span> (34.23 KB)\n",
       "</pre>\n"
      ],
      "text/plain": [
       "\u001b[1m Total params: \u001b[0m\u001b[38;5;34m8,763\u001b[0m (34.23 KB)\n"
      ]
     },
     "metadata": {},
     "output_type": "display_data"
    },
    {
     "data": {
      "text/html": [
       "<pre style=\"white-space:pre;overflow-x:auto;line-height:normal;font-family:Menlo,'DejaVu Sans Mono',consolas,'Courier New',monospace\"><span style=\"font-weight: bold\"> Trainable params: </span><span style=\"color: #00af00; text-decoration-color: #00af00\">8,763</span> (34.23 KB)\n",
       "</pre>\n"
      ],
      "text/plain": [
       "\u001b[1m Trainable params: \u001b[0m\u001b[38;5;34m8,763\u001b[0m (34.23 KB)\n"
      ]
     },
     "metadata": {},
     "output_type": "display_data"
    },
    {
     "data": {
      "text/html": [
       "<pre style=\"white-space:pre;overflow-x:auto;line-height:normal;font-family:Menlo,'DejaVu Sans Mono',consolas,'Courier New',monospace\"><span style=\"font-weight: bold\"> Non-trainable params: </span><span style=\"color: #00af00; text-decoration-color: #00af00\">0</span> (0.00 B)\n",
       "</pre>\n"
      ],
      "text/plain": [
       "\u001b[1m Non-trainable params: \u001b[0m\u001b[38;5;34m0\u001b[0m (0.00 B)\n"
      ]
     },
     "metadata": {},
     "output_type": "display_data"
    },
    {
     "name": "stdout",
     "output_type": "stream",
     "text": [
      "Epoch 1/30\n",
      "\u001b[1m10/10\u001b[0m \u001b[32m━━━━━━━━━━━━━━━━━━━━\u001b[0m\u001b[37m\u001b[0m \u001b[1m3s\u001b[0m 88ms/step - accuracy: 0.0308 - loss: 4.3436 - val_accuracy: 0.0551 - val_loss: 3.7984\n",
      "Epoch 2/30\n",
      "\u001b[1m10/10\u001b[0m \u001b[32m━━━━━━━━━━━━━━━━━━━━\u001b[0m\u001b[37m\u001b[0m \u001b[1m0s\u001b[0m 25ms/step - accuracy: 0.1450 - loss: 3.8008 - val_accuracy: 0.6121 - val_loss: 2.8565\n",
      "Epoch 3/30\n",
      "\u001b[1m10/10\u001b[0m \u001b[32m━━━━━━━━━━━━━━━━━━━━\u001b[0m\u001b[37m\u001b[0m \u001b[1m0s\u001b[0m 15ms/step - accuracy: 0.4855 - loss: 3.0216 - val_accuracy: 0.6912 - val_loss: 2.0129\n",
      "Epoch 4/30\n",
      "\u001b[1m10/10\u001b[0m \u001b[32m━━━━━━━━━━━━━━━━━━━━\u001b[0m\u001b[37m\u001b[0m \u001b[1m0s\u001b[0m 15ms/step - accuracy: 0.5573 - loss: 2.3389 - val_accuracy: 0.7426 - val_loss: 1.4647\n",
      "Epoch 5/30\n",
      "\u001b[1m10/10\u001b[0m \u001b[32m━━━━━━━━━━━━━━━━━━━━\u001b[0m\u001b[37m\u001b[0m \u001b[1m0s\u001b[0m 18ms/step - accuracy: 0.6259 - loss: 1.8792 - val_accuracy: 0.7656 - val_loss: 1.2577\n",
      "Epoch 6/30\n",
      "\u001b[1m10/10\u001b[0m \u001b[32m━━━━━━━━━━━━━━━━━━━━\u001b[0m\u001b[37m\u001b[0m \u001b[1m0s\u001b[0m 22ms/step - accuracy: 0.6534 - loss: 1.6602 - val_accuracy: 0.7693 - val_loss: 1.1649\n",
      "Epoch 7/30\n",
      "\u001b[1m10/10\u001b[0m \u001b[32m━━━━━━━━━━━━━━━━━━━━\u001b[0m\u001b[37m\u001b[0m \u001b[1m0s\u001b[0m 27ms/step - accuracy: 0.6551 - loss: 1.6133 - val_accuracy: 0.7730 - val_loss: 1.1065\n",
      "Epoch 8/30\n",
      "\u001b[1m10/10\u001b[0m \u001b[32m━━━━━━━━━━━━━━━━━━━━\u001b[0m\u001b[37m\u001b[0m \u001b[1m0s\u001b[0m 23ms/step - accuracy: 0.7119 - loss: 1.3555 - val_accuracy: 0.7785 - val_loss: 1.0603\n",
      "Epoch 9/30\n",
      "\u001b[1m10/10\u001b[0m \u001b[32m━━━━━━━━━━━━━━━━━━━━\u001b[0m\u001b[37m\u001b[0m \u001b[1m0s\u001b[0m 19ms/step - accuracy: 0.6911 - loss: 1.4118 - val_accuracy: 0.7794 - val_loss: 1.0267\n",
      "Epoch 10/30\n",
      "\u001b[1m10/10\u001b[0m \u001b[32m━━━━━━━━━━━━━━━━━━━━\u001b[0m\u001b[37m\u001b[0m \u001b[1m0s\u001b[0m 25ms/step - accuracy: 0.7133 - loss: 1.3249 - val_accuracy: 0.7849 - val_loss: 1.0022\n",
      "Epoch 11/30\n",
      "\u001b[1m10/10\u001b[0m \u001b[32m━━━━━━━━━━━━━━━━━━━━\u001b[0m\u001b[37m\u001b[0m \u001b[1m0s\u001b[0m 24ms/step - accuracy: 0.7364 - loss: 1.1968 - val_accuracy: 0.7849 - val_loss: 0.9832\n",
      "Epoch 12/30\n",
      "\u001b[1m10/10\u001b[0m \u001b[32m━━━━━━━━━━━━━━━━━━━━\u001b[0m\u001b[37m\u001b[0m \u001b[1m0s\u001b[0m 49ms/step - accuracy: 0.7263 - loss: 1.2543 - val_accuracy: 0.7895 - val_loss: 0.9649\n",
      "Epoch 13/30\n",
      "\u001b[1m10/10\u001b[0m \u001b[32m━━━━━━━━━━━━━━━━━━━━\u001b[0m\u001b[37m\u001b[0m \u001b[1m0s\u001b[0m 25ms/step - accuracy: 0.7070 - loss: 1.2944 - val_accuracy: 0.7895 - val_loss: 0.9498\n",
      "Epoch 14/30\n",
      "\u001b[1m10/10\u001b[0m \u001b[32m━━━━━━━━━━━━━━━━━━━━\u001b[0m\u001b[37m\u001b[0m \u001b[1m0s\u001b[0m 21ms/step - accuracy: 0.7479 - loss: 1.1320 - val_accuracy: 0.7904 - val_loss: 0.9365\n",
      "Epoch 15/30\n",
      "\u001b[1m10/10\u001b[0m \u001b[32m━━━━━━━━━━━━━━━━━━━━\u001b[0m\u001b[37m\u001b[0m \u001b[1m0s\u001b[0m 18ms/step - accuracy: 0.7121 - loss: 1.2670 - val_accuracy: 0.7886 - val_loss: 0.9242\n",
      "Epoch 16/30\n",
      "\u001b[1m10/10\u001b[0m \u001b[32m━━━━━━━━━━━━━━━━━━━━\u001b[0m\u001b[37m\u001b[0m \u001b[1m0s\u001b[0m 18ms/step - accuracy: 0.7313 - loss: 1.1615 - val_accuracy: 0.7904 - val_loss: 0.9153\n",
      "Epoch 17/30\n",
      "\u001b[1m10/10\u001b[0m \u001b[32m━━━━━━━━━━━━━━━━━━━━\u001b[0m\u001b[37m\u001b[0m \u001b[1m0s\u001b[0m 18ms/step - accuracy: 0.7328 - loss: 1.1628 - val_accuracy: 0.7895 - val_loss: 0.9041\n",
      "Epoch 18/30\n",
      "\u001b[1m10/10\u001b[0m \u001b[32m━━━━━━━━━━━━━━━━━━━━\u001b[0m\u001b[37m\u001b[0m \u001b[1m0s\u001b[0m 18ms/step - accuracy: 0.7372 - loss: 1.1615 - val_accuracy: 0.7932 - val_loss: 0.8953\n",
      "Epoch 19/30\n",
      "\u001b[1m10/10\u001b[0m \u001b[32m━━━━━━━━━━━━━━━━━━━━\u001b[0m\u001b[37m\u001b[0m \u001b[1m0s\u001b[0m 21ms/step - accuracy: 0.7485 - loss: 1.0971 - val_accuracy: 0.7923 - val_loss: 0.8878\n",
      "Epoch 20/30\n",
      "\u001b[1m10/10\u001b[0m \u001b[32m━━━━━━━━━━━━━━━━━━━━\u001b[0m\u001b[37m\u001b[0m \u001b[1m0s\u001b[0m 21ms/step - accuracy: 0.7498 - loss: 1.0830 - val_accuracy: 0.7941 - val_loss: 0.8793\n",
      "Epoch 21/30\n",
      "\u001b[1m10/10\u001b[0m \u001b[32m━━━━━━━━━━━━━━━━━━━━\u001b[0m\u001b[37m\u001b[0m \u001b[1m0s\u001b[0m 19ms/step - accuracy: 0.7461 - loss: 1.1154 - val_accuracy: 0.7960 - val_loss: 0.8724\n",
      "Epoch 22/30\n",
      "\u001b[1m10/10\u001b[0m \u001b[32m━━━━━━━━━━━━━━━━━━━━\u001b[0m\u001b[37m\u001b[0m \u001b[1m0s\u001b[0m 21ms/step - accuracy: 0.7497 - loss: 1.0717 - val_accuracy: 0.8015 - val_loss: 0.8668\n",
      "Epoch 23/30\n",
      "\u001b[1m10/10\u001b[0m \u001b[32m━━━━━━━━━━━━━━━━━━━━\u001b[0m\u001b[37m\u001b[0m \u001b[1m0s\u001b[0m 22ms/step - accuracy: 0.7454 - loss: 1.0854 - val_accuracy: 0.8006 - val_loss: 0.8635\n",
      "Epoch 24/30\n",
      "\u001b[1m10/10\u001b[0m \u001b[32m━━━━━━━━━━━━━━━━━━━━\u001b[0m\u001b[37m\u001b[0m \u001b[1m0s\u001b[0m 22ms/step - accuracy: 0.7457 - loss: 1.0746 - val_accuracy: 0.8015 - val_loss: 0.8571\n",
      "Epoch 25/30\n",
      "\u001b[1m10/10\u001b[0m \u001b[32m━━━━━━━━━━━━━━━━━━━━\u001b[0m\u001b[37m\u001b[0m \u001b[1m0s\u001b[0m 28ms/step - accuracy: 0.7751 - loss: 0.9745 - val_accuracy: 0.8024 - val_loss: 0.8529\n",
      "Epoch 26/30\n",
      "\u001b[1m10/10\u001b[0m \u001b[32m━━━━━━━━━━━━━━━━━━━━\u001b[0m\u001b[37m\u001b[0m \u001b[1m0s\u001b[0m 29ms/step - accuracy: 0.7544 - loss: 1.0594 - val_accuracy: 0.8033 - val_loss: 0.8480\n",
      "Epoch 27/30\n",
      "\u001b[1m10/10\u001b[0m \u001b[32m━━━━━━━━━━━━━━━━━━━━\u001b[0m\u001b[37m\u001b[0m \u001b[1m0s\u001b[0m 22ms/step - accuracy: 0.7580 - loss: 1.0265 - val_accuracy: 0.8051 - val_loss: 0.8443\n",
      "Epoch 28/30\n",
      "\u001b[1m10/10\u001b[0m \u001b[32m━━━━━━━━━━━━━━━━━━━━\u001b[0m\u001b[37m\u001b[0m \u001b[1m0s\u001b[0m 20ms/step - accuracy: 0.7575 - loss: 1.0267 - val_accuracy: 0.8042 - val_loss: 0.8395\n",
      "Epoch 29/30\n",
      "\u001b[1m10/10\u001b[0m \u001b[32m━━━━━━━━━━━━━━━━━━━━\u001b[0m\u001b[37m\u001b[0m \u001b[1m0s\u001b[0m 21ms/step - accuracy: 0.7457 - loss: 1.0496 - val_accuracy: 0.8051 - val_loss: 0.8358\n",
      "Epoch 30/30\n",
      "\u001b[1m10/10\u001b[0m \u001b[32m━━━━━━━━━━━━━━━━━━━━\u001b[0m\u001b[37m\u001b[0m \u001b[1m0s\u001b[0m 20ms/step - accuracy: 0.7522 - loss: 1.0434 - val_accuracy: 0.8015 - val_loss: 0.8333\n",
      "✓ RNN training done!\n"
     ]
    }
   ],
   "source": [
    "import tensorflow as tf\n",
    "from tensorflow.keras.models import Sequential\n",
    "from tensorflow.keras.layers import SimpleRNN, TimeDistributed, Dense\n",
    "\n",
    "tf.keras.backend.clear_session()\n",
    "\n",
    "batch_size = 16\n",
    "epochs     = 30\n",
    "es = tf.keras.callbacks.EarlyStopping(patience=3, restore_best_weights=True)\n",
    "\n",
    "rnn_model = Sequential([\n",
    "    SimpleRNN(64, return_sequences=True, input_shape=X_tr.shape[1:]),  # (seq_len, num_feat)\n",
    "    TimeDistributed(Dense(y_tr.shape[-1], activation=\"softmax\"))\n",
    "])\n",
    "\n",
    "rnn_model.compile(\n",
    "    loss=\"categorical_crossentropy\", optimizer=\"adam\", metrics=[\"accuracy\"]\n",
    ")\n",
    "\n",
    "rnn_model.summary()\n",
    "\n",
    "hist_rnn = rnn_model.fit(\n",
    "    X_tr, y_tr,\n",
    "    validation_split=0.1,\n",
    "    epochs=epochs,\n",
    "    batch_size=batch_size,\n",
    "    callbacks=[es],\n",
    "    verbose=1\n",
    ")\n",
    "\n",
    "print(\"✓ RNN training done!\")\n"
   ]
  },
  {
   "cell_type": "markdown",
   "metadata": {},
   "source": [
    "### 3. LSTM Model"
   ]
  },
  {
   "cell_type": "code",
   "execution_count": null,
   "metadata": {},
   "outputs": [
    {
     "name": "stderr",
     "output_type": "stream",
     "text": [
      "/Users/loris/Desktop/MIDI-Trained-Chord-Recognition-Model/.venv/lib/python3.12/site-packages/keras/src/layers/rnn/bidirectional.py:107: UserWarning: Do not pass an `input_shape`/`input_dim` argument to a layer. When using Sequential models, prefer using an `Input(shape)` object as the first layer in the model instead.\n",
      "  super().__init__(**kwargs)\n"
     ]
    },
    {
     "data": {
      "text/html": [
       "<pre style=\"white-space:pre;overflow-x:auto;line-height:normal;font-family:Menlo,'DejaVu Sans Mono',consolas,'Courier New',monospace\"><span style=\"font-weight: bold\">Model: \"sequential\"</span>\n",
       "</pre>\n"
      ],
      "text/plain": [
       "\u001b[1mModel: \"sequential\"\u001b[0m\n"
      ]
     },
     "metadata": {},
     "output_type": "display_data"
    },
    {
     "data": {
      "text/html": [
       "<pre style=\"white-space:pre;overflow-x:auto;line-height:normal;font-family:Menlo,'DejaVu Sans Mono',consolas,'Courier New',monospace\">┏━━━━━━━━━━━━━━━━━━━━━━━━━━━━━━━━━┳━━━━━━━━━━━━━━━━━━━━━━━━┳━━━━━━━━━━━━━━━┓\n",
       "┃<span style=\"font-weight: bold\"> Layer (type)                    </span>┃<span style=\"font-weight: bold\"> Output Shape           </span>┃<span style=\"font-weight: bold\">       Param # </span>┃\n",
       "┡━━━━━━━━━━━━━━━━━━━━━━━━━━━━━━━━━╇━━━━━━━━━━━━━━━━━━━━━━━━╇━━━━━━━━━━━━━━━┩\n",
       "│ bidirectional (<span style=\"color: #0087ff; text-decoration-color: #0087ff\">Bidirectional</span>)   │ (<span style=\"color: #00d7ff; text-decoration-color: #00d7ff\">None</span>, <span style=\"color: #00af00; text-decoration-color: #00af00\">64</span>, <span style=\"color: #00af00; text-decoration-color: #00af00\">128</span>)        │        <span style=\"color: #00af00; text-decoration-color: #00af00\">39,424</span> │\n",
       "├─────────────────────────────────┼────────────────────────┼───────────────┤\n",
       "│ time_distributed                │ (<span style=\"color: #00d7ff; text-decoration-color: #00d7ff\">None</span>, <span style=\"color: #00af00; text-decoration-color: #00af00\">64</span>, <span style=\"color: #00af00; text-decoration-color: #00af00\">59</span>)         │         <span style=\"color: #00af00; text-decoration-color: #00af00\">7,611</span> │\n",
       "│ (<span style=\"color: #0087ff; text-decoration-color: #0087ff\">TimeDistributed</span>)               │                        │               │\n",
       "└─────────────────────────────────┴────────────────────────┴───────────────┘\n",
       "</pre>\n"
      ],
      "text/plain": [
       "┏━━━━━━━━━━━━━━━━━━━━━━━━━━━━━━━━━┳━━━━━━━━━━━━━━━━━━━━━━━━┳━━━━━━━━━━━━━━━┓\n",
       "┃\u001b[1m \u001b[0m\u001b[1mLayer (type)                   \u001b[0m\u001b[1m \u001b[0m┃\u001b[1m \u001b[0m\u001b[1mOutput Shape          \u001b[0m\u001b[1m \u001b[0m┃\u001b[1m \u001b[0m\u001b[1m      Param #\u001b[0m\u001b[1m \u001b[0m┃\n",
       "┡━━━━━━━━━━━━━━━━━━━━━━━━━━━━━━━━━╇━━━━━━━━━━━━━━━━━━━━━━━━╇━━━━━━━━━━━━━━━┩\n",
       "│ bidirectional (\u001b[38;5;33mBidirectional\u001b[0m)   │ (\u001b[38;5;45mNone\u001b[0m, \u001b[38;5;34m64\u001b[0m, \u001b[38;5;34m128\u001b[0m)        │        \u001b[38;5;34m39,424\u001b[0m │\n",
       "├─────────────────────────────────┼────────────────────────┼───────────────┤\n",
       "│ time_distributed                │ (\u001b[38;5;45mNone\u001b[0m, \u001b[38;5;34m64\u001b[0m, \u001b[38;5;34m59\u001b[0m)         │         \u001b[38;5;34m7,611\u001b[0m │\n",
       "│ (\u001b[38;5;33mTimeDistributed\u001b[0m)               │                        │               │\n",
       "└─────────────────────────────────┴────────────────────────┴───────────────┘\n"
      ]
     },
     "metadata": {},
     "output_type": "display_data"
    },
    {
     "data": {
      "text/html": [
       "<pre style=\"white-space:pre;overflow-x:auto;line-height:normal;font-family:Menlo,'DejaVu Sans Mono',consolas,'Courier New',monospace\"><span style=\"font-weight: bold\"> Total params: </span><span style=\"color: #00af00; text-decoration-color: #00af00\">47,035</span> (183.73 KB)\n",
       "</pre>\n"
      ],
      "text/plain": [
       "\u001b[1m Total params: \u001b[0m\u001b[38;5;34m47,035\u001b[0m (183.73 KB)\n"
      ]
     },
     "metadata": {},
     "output_type": "display_data"
    },
    {
     "data": {
      "text/html": [
       "<pre style=\"white-space:pre;overflow-x:auto;line-height:normal;font-family:Menlo,'DejaVu Sans Mono',consolas,'Courier New',monospace\"><span style=\"font-weight: bold\"> Trainable params: </span><span style=\"color: #00af00; text-decoration-color: #00af00\">47,035</span> (183.73 KB)\n",
       "</pre>\n"
      ],
      "text/plain": [
       "\u001b[1m Trainable params: \u001b[0m\u001b[38;5;34m47,035\u001b[0m (183.73 KB)\n"
      ]
     },
     "metadata": {},
     "output_type": "display_data"
    },
    {
     "data": {
      "text/html": [
       "<pre style=\"white-space:pre;overflow-x:auto;line-height:normal;font-family:Menlo,'DejaVu Sans Mono',consolas,'Courier New',monospace\"><span style=\"font-weight: bold\"> Non-trainable params: </span><span style=\"color: #00af00; text-decoration-color: #00af00\">0</span> (0.00 B)\n",
       "</pre>\n"
      ],
      "text/plain": [
       "\u001b[1m Non-trainable params: \u001b[0m\u001b[38;5;34m0\u001b[0m (0.00 B)\n"
      ]
     },
     "metadata": {},
     "output_type": "display_data"
    },
    {
     "name": "stdout",
     "output_type": "stream",
     "text": [
      "Epoch 1/30\n",
      "\u001b[1m10/10\u001b[0m \u001b[32m━━━━━━━━━━━━━━━━━━━━\u001b[0m\u001b[37m\u001b[0m \u001b[1m11s\u001b[0m 287ms/step - accuracy: 0.2686 - loss: 4.0663 - val_accuracy: 0.6314 - val_loss: 3.8054\n",
      "Epoch 2/30\n",
      "\u001b[1m10/10\u001b[0m \u001b[32m━━━━━━━━━━━━━━━━━━━━\u001b[0m\u001b[37m\u001b[0m \u001b[1m1s\u001b[0m 120ms/step - accuracy: 0.5795 - loss: 3.6366 - val_accuracy: 0.6811 - val_loss: 2.4185\n",
      "Epoch 3/30\n",
      "\u001b[1m10/10\u001b[0m \u001b[32m━━━━━━━━━━━━━━━━━━━━\u001b[0m\u001b[37m\u001b[0m \u001b[1m1s\u001b[0m 64ms/step - accuracy: 0.6301 - loss: 2.2844 - val_accuracy: 0.7004 - val_loss: 1.2886\n",
      "Epoch 4/30\n",
      "\u001b[1m10/10\u001b[0m \u001b[32m━━━━━━━━━━━━━━━━━━━━\u001b[0m\u001b[37m\u001b[0m \u001b[1m1s\u001b[0m 66ms/step - accuracy: 0.6302 - loss: 1.6763 - val_accuracy: 0.7114 - val_loss: 1.1283\n",
      "Epoch 5/30\n",
      "\u001b[1m10/10\u001b[0m \u001b[32m━━━━━━━━━━━━━━━━━━━━\u001b[0m\u001b[37m\u001b[0m \u001b[1m1s\u001b[0m 62ms/step - accuracy: 0.6480 - loss: 1.5429 - val_accuracy: 0.7353 - val_loss: 1.0456\n",
      "Epoch 6/30\n",
      "\u001b[1m10/10\u001b[0m \u001b[32m━━━━━━━━━━━━━━━━━━━━\u001b[0m\u001b[37m\u001b[0m \u001b[1m1s\u001b[0m 51ms/step - accuracy: 0.7200 - loss: 1.2291 - val_accuracy: 0.7518 - val_loss: 0.9859\n",
      "Epoch 7/30\n",
      "\u001b[1m10/10\u001b[0m \u001b[32m━━━━━━━━━━━━━━━━━━━━\u001b[0m\u001b[37m\u001b[0m \u001b[1m0s\u001b[0m 48ms/step - accuracy: 0.7081 - loss: 1.2897 - val_accuracy: 0.7684 - val_loss: 0.9389\n",
      "Epoch 8/30\n",
      "\u001b[1m10/10\u001b[0m \u001b[32m━━━━━━━━━━━━━━━━━━━━\u001b[0m\u001b[37m\u001b[0m \u001b[1m1s\u001b[0m 55ms/step - accuracy: 0.7278 - loss: 1.1717 - val_accuracy: 0.7757 - val_loss: 0.9033\n",
      "Epoch 9/30\n",
      "\u001b[1m10/10\u001b[0m \u001b[32m━━━━━━━━━━━━━━━━━━━━\u001b[0m\u001b[37m\u001b[0m \u001b[1m1s\u001b[0m 57ms/step - accuracy: 0.7252 - loss: 1.1706 - val_accuracy: 0.7840 - val_loss: 0.8771\n",
      "Epoch 10/30\n",
      "\u001b[1m10/10\u001b[0m \u001b[32m━━━━━━━━━━━━━━━━━━━━\u001b[0m\u001b[37m\u001b[0m \u001b[1m1s\u001b[0m 77ms/step - accuracy: 0.7350 - loss: 1.0899 - val_accuracy: 0.7941 - val_loss: 0.8557\n",
      "Epoch 11/30\n",
      "\u001b[1m10/10\u001b[0m \u001b[32m━━━━━━━━━━━━━━━━━━━━\u001b[0m\u001b[37m\u001b[0m \u001b[1m1s\u001b[0m 104ms/step - accuracy: 0.7669 - loss: 0.9546 - val_accuracy: 0.7978 - val_loss: 0.8397\n",
      "Epoch 12/30\n",
      "\u001b[1m10/10\u001b[0m \u001b[32m━━━━━━━━━━━━━━━━━━━━\u001b[0m\u001b[37m\u001b[0m \u001b[1m1s\u001b[0m 75ms/step - accuracy: 0.7739 - loss: 0.9398 - val_accuracy: 0.8006 - val_loss: 0.8251\n",
      "Epoch 13/30\n",
      "\u001b[1m10/10\u001b[0m \u001b[32m━━━━━━━━━━━━━━━━━━━━\u001b[0m\u001b[37m\u001b[0m \u001b[1m1s\u001b[0m 88ms/step - accuracy: 0.7869 - loss: 0.8925 - val_accuracy: 0.8051 - val_loss: 0.8102\n",
      "Epoch 14/30\n",
      "\u001b[1m10/10\u001b[0m \u001b[32m━━━━━━━━━━━━━━━━━━━━\u001b[0m\u001b[37m\u001b[0m \u001b[1m1s\u001b[0m 70ms/step - accuracy: 0.7728 - loss: 0.9457 - val_accuracy: 0.8107 - val_loss: 0.7984\n",
      "Epoch 15/30\n",
      "\u001b[1m10/10\u001b[0m \u001b[32m━━━━━━━━━━━━━━━━━━━━\u001b[0m\u001b[37m\u001b[0m \u001b[1m1s\u001b[0m 55ms/step - accuracy: 0.7797 - loss: 0.9001 - val_accuracy: 0.8134 - val_loss: 0.7873\n",
      "Epoch 16/30\n",
      "\u001b[1m10/10\u001b[0m \u001b[32m━━━━━━━━━━━━━━━━━━━━\u001b[0m\u001b[37m\u001b[0m \u001b[1m1s\u001b[0m 65ms/step - accuracy: 0.7821 - loss: 0.8746 - val_accuracy: 0.8134 - val_loss: 0.7757\n",
      "Epoch 17/30\n",
      "\u001b[1m10/10\u001b[0m \u001b[32m━━━━━━━━━━━━━━━━━━━━\u001b[0m\u001b[37m\u001b[0m \u001b[1m1s\u001b[0m 58ms/step - accuracy: 0.7880 - loss: 0.8376 - val_accuracy: 0.8162 - val_loss: 0.7681\n",
      "Epoch 18/30\n",
      "\u001b[1m10/10\u001b[0m \u001b[32m━━━━━━━━━━━━━━━━━━━━\u001b[0m\u001b[37m\u001b[0m \u001b[1m0s\u001b[0m 44ms/step - accuracy: 0.8085 - loss: 0.7730 - val_accuracy: 0.8116 - val_loss: 0.7599\n",
      "Epoch 19/30\n",
      "\u001b[1m10/10\u001b[0m \u001b[32m━━━━━━━━━━━━━━━━━━━━\u001b[0m\u001b[37m\u001b[0m \u001b[1m0s\u001b[0m 44ms/step - accuracy: 0.8045 - loss: 0.7800 - val_accuracy: 0.8153 - val_loss: 0.7521\n",
      "Epoch 20/30\n",
      "\u001b[1m10/10\u001b[0m \u001b[32m━━━━━━━━━━━━━━━━━━━━\u001b[0m\u001b[37m\u001b[0m \u001b[1m0s\u001b[0m 44ms/step - accuracy: 0.8017 - loss: 0.7960 - val_accuracy: 0.8189 - val_loss: 0.7459\n",
      "Epoch 21/30\n",
      "\u001b[1m10/10\u001b[0m \u001b[32m━━━━━━━━━━━━━━━━━━━━\u001b[0m\u001b[37m\u001b[0m \u001b[1m1s\u001b[0m 49ms/step - accuracy: 0.7919 - loss: 0.8103 - val_accuracy: 0.8180 - val_loss: 0.7409\n",
      "Epoch 22/30\n",
      "\u001b[1m10/10\u001b[0m \u001b[32m━━━━━━━━━━━━━━━━━━━━\u001b[0m\u001b[37m\u001b[0m \u001b[1m1s\u001b[0m 77ms/step - accuracy: 0.8011 - loss: 0.7697 - val_accuracy: 0.8180 - val_loss: 0.7353\n",
      "Epoch 23/30\n",
      "\u001b[1m10/10\u001b[0m \u001b[32m━━━━━━━━━━━━━━━━━━━━\u001b[0m\u001b[37m\u001b[0m \u001b[1m1s\u001b[0m 59ms/step - accuracy: 0.8118 - loss: 0.7372 - val_accuracy: 0.8189 - val_loss: 0.7297\n",
      "Epoch 24/30\n",
      "\u001b[1m10/10\u001b[0m \u001b[32m━━━━━━━━━━━━━━━━━━━━\u001b[0m\u001b[37m\u001b[0m \u001b[1m1s\u001b[0m 49ms/step - accuracy: 0.8117 - loss: 0.7319 - val_accuracy: 0.8217 - val_loss: 0.7264\n",
      "Epoch 25/30\n",
      "\u001b[1m10/10\u001b[0m \u001b[32m━━━━━━━━━━━━━━━━━━━━\u001b[0m\u001b[37m\u001b[0m \u001b[1m0s\u001b[0m 44ms/step - accuracy: 0.8108 - loss: 0.7203 - val_accuracy: 0.8217 - val_loss: 0.7240\n",
      "Epoch 26/30\n",
      "\u001b[1m10/10\u001b[0m \u001b[32m━━━━━━━━━━━━━━━━━━━━\u001b[0m\u001b[37m\u001b[0m \u001b[1m1s\u001b[0m 54ms/step - accuracy: 0.8174 - loss: 0.6910 - val_accuracy: 0.8226 - val_loss: 0.7213\n",
      "Epoch 27/30\n",
      "\u001b[1m10/10\u001b[0m \u001b[32m━━━━━━━━━━━━━━━━━━━━\u001b[0m\u001b[37m\u001b[0m \u001b[1m1s\u001b[0m 48ms/step - accuracy: 0.8264 - loss: 0.6696 - val_accuracy: 0.8208 - val_loss: 0.7206\n",
      "Epoch 28/30\n",
      "\u001b[1m10/10\u001b[0m \u001b[32m━━━━━━━━━━━━━━━━━━━━\u001b[0m\u001b[37m\u001b[0m \u001b[1m1s\u001b[0m 49ms/step - accuracy: 0.8261 - loss: 0.6583 - val_accuracy: 0.8226 - val_loss: 0.7166\n",
      "Epoch 29/30\n",
      "\u001b[1m10/10\u001b[0m \u001b[32m━━━━━━━━━━━━━━━━━━━━\u001b[0m\u001b[37m\u001b[0m \u001b[1m1s\u001b[0m 50ms/step - accuracy: 0.8046 - loss: 0.7274 - val_accuracy: 0.8254 - val_loss: 0.7108\n",
      "Epoch 30/30\n",
      "\u001b[1m10/10\u001b[0m \u001b[32m━━━━━━━━━━━━━━━━━━━━\u001b[0m\u001b[37m\u001b[0m \u001b[1m1s\u001b[0m 74ms/step - accuracy: 0.8160 - loss: 0.7062 - val_accuracy: 0.8226 - val_loss: 0.7130\n",
      "✓ LSTM training done!\n"
     ]
    }
   ],
   "source": [
    "# bidirectional LSTM model\n",
    "import tensorflow as tf\n",
    "from tensorflow.keras.models import Sequential\n",
    "from tensorflow.keras.layers import Bidirectional, LSTM, TimeDistributed, Dense\n",
    "\n",
    "tf.keras.backend.clear_session()\n",
    "\n",
    "batch_size = 16\n",
    "epochs     = 30\n",
    "es = tf.keras.callbacks.EarlyStopping(patience=3, restore_best_weights=True)\n",
    "\n",
    "lstm_model = Sequential([\n",
    "    Bidirectional(\n",
    "        LSTM(64, return_sequences=True),\n",
    "        input_shape=X_tr.shape[1:]\n",
    "    ),\n",
    "    TimeDistributed(Dense(y_tr.shape[-1], activation=\"softmax\"))\n",
    "])\n",
    "\n",
    "lstm_model.compile(\n",
    "    loss=\"categorical_crossentropy\", optimizer=\"adam\", metrics=[\"accuracy\"]\n",
    ")\n",
    "\n",
    "lstm_model.summary()\n",
    "\n",
    "hist_lstm = lstm_model.fit(\n",
    "    X_tr, y_tr,\n",
    "    validation_split=0.1,\n",
    "    epochs=epochs,\n",
    "    batch_size=batch_size,\n",
    "    callbacks=[es],\n",
    "    verbose=1\n",
    ")\n",
    "\n",
    "print(\"✓ LSTM training done!\")\n"
   ]
  },
  {
   "cell_type": "markdown",
   "metadata": {},
   "source": [
    "### 4. CNN + LSTM Model"
   ]
  },
  {
   "cell_type": "markdown",
   "metadata": {},
   "source": [
    "## Evaluation"
   ]
  },
  {
   "cell_type": "code",
   "execution_count": 19,
   "metadata": {},
   "outputs": [
    {
     "name": "stdout",
     "output_type": "stream",
     "text": [
      "\n",
      "=== RNN Model ===\n",
      "    thirds: 0.7918\n",
      "thirds_inv: 0.7918\n",
      "    triads: 0.7918\n",
      "triads_inv: 0.7918\n",
      "   tetrads: 0.7602\n",
      "tetrads_inv: 0.7602\n",
      "      root: 0.8187\n",
      "     mirex: 0.7918\n",
      "    majmin: 0.7944\n",
      "majmin_inv: 0.7944\n",
      "  sevenths: 0.7627\n",
      "sevenths_inv: 0.7627\n",
      "  underseg: 0.9186\n",
      "   overseg: 0.9117\n",
      "       seg: 0.9117\n",
      " frame_acc: 0.7602\n",
      "\n",
      "=== LSTM Model ===\n",
      "    thirds: 0.8169\n",
      "thirds_inv: 0.8169\n",
      "    triads: 0.8169\n",
      "triads_inv: 0.8169\n",
      "   tetrads: 0.7914\n",
      "tetrads_inv: 0.7914\n",
      "      root: 0.8278\n",
      "     mirex: 0.8169\n",
      "    majmin: 0.8195\n",
      "majmin_inv: 0.8195\n",
      "  sevenths: 0.7940\n",
      "sevenths_inv: 0.7940\n",
      "  underseg: 0.9012\n",
      "   overseg: 0.9302\n",
      "       seg: 0.9012\n",
      " frame_acc: 0.7914\n"
     ]
    }
   ],
   "source": [
    "import numpy as np\n",
    "import mir_eval\n",
    "\n",
    "# helpers\n",
    "def ints_to_chords(int_array):\n",
    "    return [to_mireval(idx2label[i]) if 0 <= i < len(idx2label) else \"N\"\n",
    "            for i in int_array]\n",
    "\n",
    "def evaluate_chord_model(name, model, X, y_ohe, frame_rate=1.0):\n",
    "    \"\"\"Evaluate model and print all available mir_eval metrics.\"\"\"\n",
    "    y_pred_int = np.argmax(model.predict(X, verbose=0), axis=-1).flatten()\n",
    "    y_true_int = np.argmax(y_ohe,                    axis=-1).flatten()\n",
    "\n",
    "    est_labels = ints_to_chords(y_pred_int)\n",
    "    ref_labels = ints_to_chords(y_true_int)\n",
    "\n",
    "    n = len(y_true_int)\n",
    "    intervals = np.column_stack([np.arange(n)/frame_rate,\n",
    "                                 (np.arange(n)+1)/frame_rate])\n",
    "\n",
    "    result = mir_eval.chord.evaluate(\n",
    "        intervals, ref_labels, intervals, est_labels\n",
    "    )\n",
    "\n",
    "    # normalize output to (names, scores)\n",
    "    if isinstance(result, dict):\n",
    "        score_names = list(result.keys())\n",
    "        scores      = list(result.values())\n",
    "\n",
    "    elif isinstance(result, (list, tuple)) and len(result) == 2:\n",
    "        # (names, scores)  OR  (scores, names)  depending on version\n",
    "        a, b = result\n",
    "        if isinstance(a[0], str):\n",
    "            score_names, scores = a, b\n",
    "        else:\n",
    "            scores, score_names = a, b\n",
    "\n",
    "    else:                                            # list/tuple of floats\n",
    "        scores = list(result)\n",
    "        # default names for the 7-metric variant\n",
    "        score_names = [\"root\", \"majmin\", \"thirds\",\n",
    "                       \"triads\", \"sevenths\", \"tetrads\", \"mirex\"][:len(scores)]\n",
    "\n",
    "\n",
    "    print(f\"\\n=== {name} ===\")\n",
    "    for nm, sc in zip(score_names, scores):\n",
    "        print(f\"{nm:>10}: {sc:.4f}\")\n",
    "\n",
    "    frame_acc = np.mean(y_true_int == y_pred_int)\n",
    "    print(f\"{'frame_acc':>10}: {frame_acc:.4f}\")\n",
    "\n",
    "\n",
    "evaluate_chord_model(\"RNN Model\",  rnn_model,  X_te, y_te)\n",
    "evaluate_chord_model(\"LSTM Model\", lstm_model, X_te, y_te)\n"
   ]
  },
  {
   "cell_type": "code",
   "execution_count": null,
   "metadata": {},
   "outputs": [],
   "source": []
  }
 ],
 "metadata": {
  "kernelspec": {
   "display_name": ".venv",
   "language": "python",
   "name": "python3"
  },
  "language_info": {
   "codemirror_mode": {
    "name": "ipython",
    "version": 3
   },
   "file_extension": ".py",
   "mimetype": "text/x-python",
   "name": "python",
   "nbconvert_exporter": "python",
   "pygments_lexer": "ipython3",
   "version": "3.12.7"
  },
  "orig_nbformat": 4
 },
 "nbformat": 4,
 "nbformat_minor": 2
}
